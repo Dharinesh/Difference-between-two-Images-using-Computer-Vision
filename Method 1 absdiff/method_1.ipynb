{
 "cells": [
  {
   "cell_type": "markdown",
   "metadata": {},
   "source": [
    "### Importing Necessary Libraries"
   ]
  },
  {
   "cell_type": "code",
   "execution_count": 22,
   "metadata": {},
   "outputs": [],
   "source": [
    "import cv2 # type: ignore\n",
    "import imutils # type: ignore\n",
    "import os"
   ]
  },
  {
   "cell_type": "markdown",
   "metadata": {},
   "source": [
    "### Loading the two images"
   ]
  },
  {
   "cell_type": "code",
   "execution_count": 23,
   "metadata": {},
   "outputs": [],
   "source": [
    "image_A = cv2.imread(r\"E:\\Difference between Images\\Method 1 absdiff\\input\\1_inputA.png\")\n",
    "image_B = cv2.imread(r\"E:\\Difference between Images\\Method 1 absdiff\\input\\1_inputB.png\")"
   ]
  },
  {
   "cell_type": "markdown",
   "metadata": {},
   "source": [
    "### Resizing the images "
   ]
  },
  {
   "cell_type": "code",
   "execution_count": 24,
   "metadata": {},
   "outputs": [],
   "source": [
    "image_A = imutils.resize(image_A, height=600)\n",
    "image_B = imutils.resize(image_B, height=600)\n",
    "image_B = cv2.resize(image_B, (image_A.shape[1], image_A.shape[0]))"
   ]
  },
  {
   "cell_type": "markdown",
   "metadata": {},
   "source": [
    "### Difference Detection"
   ]
  },
  {
   "cell_type": "code",
   "execution_count": 25,
   "metadata": {},
   "outputs": [],
   "source": [
    "# Here, we are creating a copy of the original image into the diff variable\n",
    "diff = image_A.copy()\n",
    "\n",
    "# detecting the difference using CV2's absdiff function\n",
    "cv2.absdiff(image_A, image_B, diff)\n",
    "\n",
    "# Conversion of the diff variable into grayscale \n",
    "gray = cv2.cvtColor(diff, cv2.COLOR_BGR2GRAY)"
   ]
  },
  {
   "cell_type": "markdown",
   "metadata": {},
   "source": [
    "### Enhancing the difference between two input images"
   ]
  },
  {
   "cell_type": "code",
   "execution_count": 26,
   "metadata": {},
   "outputs": [],
   "source": [
    "# Performing dilation\n",
    "for i in range(0, 3):\n",
    "    dilated = cv2.dilate(gray.copy(), None, iterations=i + 1)\n",
    "    \n",
    "# Applying thresholding to create a clear distinction between the areas of difference and the background\n",
    "(T, thresh) = cv2.threshold(dilated, 3, 255, cv2.THRESH_BINARY)"
   ]
  },
  {
   "cell_type": "markdown",
   "metadata": {},
   "source": [
    "### Detecting contours and drawing bounding boxes"
   ]
  },
  {
   "cell_type": "code",
   "execution_count": 27,
   "metadata": {},
   "outputs": [],
   "source": [
    "# Find contours\n",
    "cnts = cv2.findContours(thresh, cv2.RETR_LIST, cv2.CHAIN_APPROX_SIMPLE)\n",
    "# Grab contours\n",
    "cnts = imutils.grab_contours(cnts)\n",
    "# Iterate through contours and draw bounding boxes\n",
    "for c in cnts:\n",
    "    (x, y, w, h) = cv2.boundingRect(c)\n",
    "    cv2.rectangle(image_B, (x, y), (x + w, y + h), (255, 0, 0), 2)"
   ]
  },
  {
   "cell_type": "markdown",
   "metadata": {},
   "source": [
    "##### Note: Contours in image processing are outlines that represent object boundaries. In OpenCV, contours are used to extract shapes and structures from images."
   ]
  },
  {
   "cell_type": "markdown",
   "metadata": {},
   "source": [
    "### Similarity Score calculation"
   ]
  },
  {
   "cell_type": "code",
   "execution_count": 28,
   "metadata": {},
   "outputs": [
    {
     "name": "stdout",
     "output_type": "stream",
     "text": [
      "Similarity Score: 0.9416847172081829\n"
     ]
    }
   ],
   "source": [
    "similarity_score = 1 - (cv2.countNonZero(gray) / (gray.shape[0] * gray.shape[1]))\n",
    "print(\"Similarity Score:\", similarity_score)"
   ]
  },
  {
   "cell_type": "code",
   "execution_count": 29,
   "metadata": {},
   "outputs": [
    {
     "data": {
      "text/plain": [
       "True"
      ]
     },
     "execution_count": 29,
     "metadata": {},
     "output_type": "execute_result"
    }
   ],
   "source": [
    "output_folder = r\"E:\\Difference between Images\\Method 1 absdiff\\output\"\n",
    "output_file_path = os.path.join(output_folder, \"1_output.png\")\n",
    "cv2.imwrite(output_file_path, image_B)"
   ]
  },
  {
   "cell_type": "markdown",
   "metadata": {},
   "source": [
    "### Comparing outputs (optional, it is done to just compare the images side by side with detection)"
   ]
  },
  {
   "cell_type": "code",
   "execution_count": 30,
   "metadata": {},
   "outputs": [
    {
     "name": "stdout",
     "output_type": "stream",
     "text": [
      "Concatenated image saved at: E:\\Difference between Images\\Method 1 absdiff\\output\\concatenated_output.png\n"
     ]
    }
   ],
   "source": [
    "temp = cv2.imread(r\"E:\\Difference between Images\\Method 1 absdiff\\input\\1_inputB.png\")\n",
    "temp = imutils.resize(temp, height=600)\n",
    "concatenated_image = cv2.hconcat([image_A, temp, image_B])\n",
    "output_file_path = os.path.join(output_folder, \"concatenated_output.png\")\n",
    "cv2.imwrite(output_file_path, concatenated_image)\n",
    "print(\"Concatenated image saved at:\", output_file_path)"
   ]
  }
 ],
 "metadata": {
  "kernelspec": {
   "display_name": "Python 3",
   "language": "python",
   "name": "python3"
  },
  "language_info": {
   "codemirror_mode": {
    "name": "ipython",
    "version": 3
   },
   "file_extension": ".py",
   "mimetype": "text/x-python",
   "name": "python",
   "nbconvert_exporter": "python",
   "pygments_lexer": "ipython3",
   "version": "3.9.0"
  }
 },
 "nbformat": 4,
 "nbformat_minor": 2
}
