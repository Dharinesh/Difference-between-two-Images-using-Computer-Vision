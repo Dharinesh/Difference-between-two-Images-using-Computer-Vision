{
 "cells": [
  {
   "cell_type": "markdown",
   "metadata": {},
   "source": [
    "### Importing Necessary Libraries"
   ]
  },
  {
   "cell_type": "code",
   "execution_count": 52,
   "metadata": {},
   "outputs": [],
   "source": [
    "from skimage.metrics import structural_similarity as compare_ssim  # type: ignore\n",
    "import argparse\n",
    "import imutils # type: ignore\n",
    "import cv2 # type: ignore\n",
    "import os"
   ]
  },
  {
   "cell_type": "markdown",
   "metadata": {},
   "source": [
    "### Loading the two images"
   ]
  },
  {
   "cell_type": "code",
   "execution_count": 53,
   "metadata": {},
   "outputs": [],
   "source": [
    "image_A = cv2.imread(r\"E:\\Difference between Images\\Method 2\\input\\4_inputA.png\")\n",
    "image_B = cv2.imread(r\"E:\\Difference between Images\\Method 2\\input\\4_inputB.png\")"
   ]
  },
  {
   "cell_type": "markdown",
   "metadata": {},
   "source": [
    "### Resizing the images "
   ]
  },
  {
   "cell_type": "code",
   "execution_count": 54,
   "metadata": {},
   "outputs": [],
   "source": [
    "image_A = imutils.resize(image_A, height=600)\n",
    "image_B = imutils.resize(image_B, height=600)"
   ]
  },
  {
   "cell_type": "markdown",
   "metadata": {},
   "source": [
    "### Conversion to GrayScale"
   ]
  },
  {
   "cell_type": "code",
   "execution_count": 55,
   "metadata": {},
   "outputs": [],
   "source": [
    "grayA = cv2.cvtColor(image_A, cv2.COLOR_BGR2GRAY)\n",
    "grayB = cv2.cvtColor(image_B, cv2.COLOR_BGR2GRAY)"
   ]
  },
  {
   "cell_type": "markdown",
   "metadata": {},
   "source": [
    "### Difference detection"
   ]
  },
  {
   "cell_type": "code",
   "execution_count": 56,
   "metadata": {},
   "outputs": [
    {
     "name": "stdout",
     "output_type": "stream",
     "text": [
      "Similarity Score (SSIM): 0.9132731857353472\n"
     ]
    }
   ],
   "source": [
    "# Here, the score and diff does the function call form the compare_ssm function\n",
    "(score, diff) = compare_ssim(grayA, grayB, full=True)\n",
    "\n",
    "# the diff gives the structural difference map between the two images\n",
    "diff = (diff * 255).astype(\"uint8\")\n",
    "\n",
    "# The SSIM score is the similarity score\n",
    "print(\"Similarity Score (SSIM): {}\".format(score))"
   ]
  },
  {
   "cell_type": "markdown",
   "metadata": {},
   "source": [
    "### Contour Detection and drawing Bounding Boxes"
   ]
  },
  {
   "cell_type": "code",
   "execution_count": 57,
   "metadata": {},
   "outputs": [],
   "source": [
    "# We apply thresholding to the difference image\n",
    "thresh = cv2.threshold(diff, 0, 255, cv2.THRESH_BINARY_INV | cv2.THRESH_OTSU)[1]\n",
    "\n",
    "# We find contours in the threshold image\n",
    "cnts = cv2.findContours(thresh.copy(), cv2.RETR_EXTERNAL, cv2.CHAIN_APPROX_SIMPLE)\n",
    "cnts = imutils.grab_contours(cnts)\n",
    "\n",
    "# Draw Bounding Boxes\n",
    "for c in cnts:\n",
    "    (x, y, w, h) = cv2.boundingRect(c)\n",
    "    cv2.rectangle(image_B, (x, y), (x + w, y + h), (0, 255, 0), 2)"
   ]
  },
  {
   "cell_type": "code",
   "execution_count": 58,
   "metadata": {},
   "outputs": [
    {
     "data": {
      "text/plain": [
       "True"
      ]
     },
     "execution_count": 58,
     "metadata": {},
     "output_type": "execute_result"
    }
   ],
   "source": [
    "output_folder = r\"E:\\Difference between Images\\Method 2\\output\"\n",
    "output_file_path = os.path.join(output_folder, \"4_output.png\")\n",
    "cv2.imwrite(output_file_path, image_B)"
   ]
  },
  {
   "cell_type": "markdown",
   "metadata": {},
   "source": [
    "### Comparing outputs (optional, it is done to just compare the images side by side with detection)"
   ]
  },
  {
   "cell_type": "code",
   "execution_count": 59,
   "metadata": {},
   "outputs": [
    {
     "name": "stdout",
     "output_type": "stream",
     "text": [
      "Concatenated image saved at: E:\\Difference between Images\\Method 2\\output\\concatenated_output.png\n"
     ]
    }
   ],
   "source": [
    "temp = cv2.imread(r\"E:\\Difference between Images\\Method 2\\input\\4_inputB.png\")\n",
    "temp = imutils.resize(temp, height=600)\n",
    "concatenated_image = cv2.hconcat([image_A, temp, image_B])\n",
    "output_file_path = os.path.join(output_folder, \"concatenated_output.png\")\n",
    "cv2.imwrite(output_file_path, concatenated_image)\n",
    "print(\"Concatenated image saved at:\", output_file_path)"
   ]
  }
 ],
 "metadata": {
  "kernelspec": {
   "display_name": "Python 3",
   "language": "python",
   "name": "python3"
  },
  "language_info": {
   "codemirror_mode": {
    "name": "ipython",
    "version": 3
   },
   "file_extension": ".py",
   "mimetype": "text/x-python",
   "name": "python",
   "nbconvert_exporter": "python",
   "pygments_lexer": "ipython3",
   "version": "3.9.0"
  }
 },
 "nbformat": 4,
 "nbformat_minor": 2
}
